{
 "cells": [
  {
   "cell_type": "markdown",
   "metadata": {},
   "source": [
    "# データ構造\n",
    "\n",
    "ここでは主にシーケンスについて学習する。シーケンスとは0個以上の要素を持つことができる構造で、pythonでは文字列以外にリスト、タプルのシーケンス構造がある。\n",
    "\n",
    "- タプル<br>\n",
    "イミュータブルのシーケンス構造で要素の書き換えは不可。<br>\n",
    "\n",
    "- リスト<br>\n",
    "ミュータブルのシーケンス構造で要素の書き換え可能。<br>"
   ]
  },
  {
   "cell_type": "markdown",
   "metadata": {},
   "source": [
    "\n"
   ]
  }
 ],
 "metadata": {
  "kernelspec": {
   "display_name": "Python 2",
   "language": "python",
   "name": "python2"
  },
  "language_info": {
   "codemirror_mode": {
    "name": "ipython",
    "version": 2
   },
   "file_extension": ".py",
   "mimetype": "text/x-python",
   "name": "python",
   "nbconvert_exporter": "python",
   "pygments_lexer": "ipython2",
   "version": "2.7.14"
  }
 },
 "nbformat": 4,
 "nbformat_minor": 2
}

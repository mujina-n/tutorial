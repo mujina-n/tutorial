{
 "cells": [
  {
   "cell_type": "markdown",
   "metadata": {},
   "source": [
    "# オブジェクトとクラス\n",
    "\n",
    "文字列や辞書などのデータ構造と関数やモジュールなどのコード構造をみてきたが\n",
    "オブジェクトとはカスタムデータ構造を扱い、pythonに含まれるものは数値からモジュールに至るまですべてオブジェクトである。\n",
    "オブジェクトには以下のものが含まれる。\n",
    "- 属性(変数、データ)<br>\n",
    "- 関数(メソッド、コード)<br>\n",
    "\n",
    "※モジュールと異なるのは、それぞれの属性の異なる複数のオブジェクトを同時に持つことができる点。"
   ]
  },
  {
   "cell_type": "markdown",
   "metadata": {},
   "source": [
    "## 1. クラス定義\n",
    "\n",
    "クラス定義ではまずclassキーワードを指定してクラス名を定義する。関数を定義する場合はclassキーワードよりインデントを下げてdefキーワードを指定して関数名を定義する。\n",
    "すべてのクラス定義で\\__init\\__を定義する必要はなく、\\__init\\__は同じクラスで作られた他のオブジェクトと区別するために必要な処理を行うために使用する。"
   ]
  },
  {
   "cell_type": "code",
   "execution_count": 3,
   "metadata": {
    "collapsed": true
   },
   "outputs": [],
   "source": [
    "class Person(): # 通例としてクラス名は先頭大文字\n",
    "    def __init__(self, name): # __init__()を定義する場合は第一引数はselfを指定しなればならない。\n",
    "        self.name = name\n",
    "    def methodA(): # 通例として関数名はcamel形式?\n",
    "        pass"
   ]
  },
  {
   "cell_type": "markdown",
   "metadata": {},
   "source": [
    "作ったクラスをオブジェクトとして使用するには左辺に代入する変数と右辺にクラスを指定すればよいが、以下のような手順を踏んでいる。\n",
    "- Personクラス定義の検索\n",
    "- メモリ内に新しいオブジェクトのインスタンスを生成\n",
    "- 生成オブジェクトに引数を渡して\\__init\\__メソッド呼び出し\n",
    "- 引数の値をオブジェクトに格納\n",
    "- 生成したオブジェクトの参照を左辺の変数に返却"
   ]
  },
  {
   "cell_type": "code",
   "execution_count": 5,
   "metadata": {},
   "outputs": [
    {
     "name": "stdout",
     "output_type": "stream",
     "text": [
      "teacher\n"
     ]
    }
   ],
   "source": [
    "pepoleA = Person('teacher')\n",
    "print pepoleA.name"
   ]
  },
  {
   "cell_type": "markdown",
   "metadata": {},
   "source": [
    "# 2. 継承\n",
    "\n",
    "既存のクラスと同じような処理が必要な場合は新しいクラスで既存のクラスを継承する。新しいクラスでは追加や変更したい部分だけを定義する。\n",
    "上書きされた古い機能は呼び出されなくなる。これをオーバーライドという。似たようなキーワードでオーバーロードという言葉があるがこちらは引数を変更して同じ名前で関数を複数定義することを指す。また、上記説明の既存のクラスを親クラス（基底クラス、スーパークラス）、新しいクラスを子クラス（派生クラス、サブクラス）などと呼ぶ。"
   ]
  },
  {
   "cell_type": "code",
   "execution_count": 65,
   "metadata": {
    "collapsed": true
   },
   "outputs": [],
   "source": [
    "class Person():\n",
    "    def __init__(self, name):\n",
    "        self.name = name\n",
    "    def greeting():\n",
    "        return \"Hi, I'm a Person. My name is \" + name"
   ]
  },
  {
   "cell_type": "markdown",
   "metadata": {},
   "source": [
    "子クラスは親クラスを特化したものである。オブジェクト指向の専門用語でこの関係を「である(is-a)」関係と呼ぶ。\n",
    "また、下の例では\\__init\\__()内で親クラスの\\__init\\__()を呼び出しているが最初にsuper()キーワードで親クラスのコンストラクタを呼ぶことで親機能を初期化した形でオブジェクトを生成して、子クラスで機能を追加すれば親クラス＋の機能として子クラスを作成することができる。"
   ]
  },
  {
   "cell_type": "code",
   "execution_count": 66,
   "metadata": {
    "collapsed": true
   },
   "outputs": [],
   "source": [
    "# Personを継承したクラス\n",
    "class MailPerson(Person):\n",
    "    def __init__(self, name, mail):\n",
    "        super().__init__(name) # self引数の親クラスへの受け渡しはpythonが行うので引数に設定しない\n",
    "        self.mail = mail\n",
    "    def greeting():\n",
    "        return \"How are you? My name is \" + name + \" Adress:\" + mail"
   ]
  },
  {
   "cell_type": "code",
   "execution_count": 70,
   "metadata": {},
   "outputs": [
    {
     "ename": "TypeError",
     "evalue": "super() takes at least 1 argument (0 given)",
     "output_type": "error",
     "traceback": [
      "\u001b[1;31m\u001b[0m",
      "\u001b[1;31mTypeError\u001b[0mTraceback (most recent call last)",
      "\u001b[1;32m<ipython-input-70-671c4be7954c>\u001b[0m in \u001b[0;36m<module>\u001b[1;34m()\u001b[0m\n\u001b[0;32m      1\u001b[0m \u001b[0ma\u001b[0m \u001b[1;33m=\u001b[0m \u001b[0mPerson\u001b[0m\u001b[1;33m(\u001b[0m\u001b[1;34m\"Bob\"\u001b[0m\u001b[1;33m)\u001b[0m\u001b[1;33m\u001b[0m\u001b[0m\n\u001b[1;32m----> 2\u001b[1;33m \u001b[0mb\u001b[0m \u001b[1;33m=\u001b[0m \u001b[0mMailPerson\u001b[0m\u001b[1;33m(\u001b[0m\u001b[1;34m\"Angy\"\u001b[0m\u001b[1;33m,\u001b[0m \u001b[1;34m\"Angy@mail.com\"\u001b[0m\u001b[1;33m)\u001b[0m \u001b[1;31m# python27だとエラーでるよ？\u001b[0m\u001b[1;33m\u001b[0m\u001b[0m\n\u001b[0m",
      "\u001b[1;32m<ipython-input-66-32abd9ff0964>\u001b[0m in \u001b[0;36m__init__\u001b[1;34m(self, name, mail)\u001b[0m\n\u001b[0;32m      2\u001b[0m \u001b[1;32mclass\u001b[0m \u001b[0mMailPerson\u001b[0m\u001b[1;33m(\u001b[0m\u001b[0mPerson\u001b[0m\u001b[1;33m)\u001b[0m\u001b[1;33m:\u001b[0m\u001b[1;33m\u001b[0m\u001b[0m\n\u001b[0;32m      3\u001b[0m     \u001b[1;32mdef\u001b[0m \u001b[0m__init__\u001b[0m\u001b[1;33m(\u001b[0m\u001b[0mself\u001b[0m\u001b[1;33m,\u001b[0m \u001b[0mname\u001b[0m\u001b[1;33m,\u001b[0m \u001b[0mmail\u001b[0m\u001b[1;33m)\u001b[0m\u001b[1;33m:\u001b[0m\u001b[1;33m\u001b[0m\u001b[0m\n\u001b[1;32m----> 4\u001b[1;33m         \u001b[0msuper\u001b[0m\u001b[1;33m(\u001b[0m\u001b[1;33m)\u001b[0m\u001b[1;33m.\u001b[0m\u001b[0m__init__\u001b[0m\u001b[1;33m(\u001b[0m\u001b[0mname\u001b[0m\u001b[1;33m)\u001b[0m \u001b[1;31m# self引数の親クラスへの受け渡しはpythonが行うので引数に設定しない\u001b[0m\u001b[1;33m\u001b[0m\u001b[0m\n\u001b[0m\u001b[0;32m      5\u001b[0m         \u001b[0mself\u001b[0m\u001b[1;33m.\u001b[0m\u001b[0mmail\u001b[0m \u001b[1;33m=\u001b[0m \u001b[0mmail\u001b[0m\u001b[1;33m\u001b[0m\u001b[0m\n\u001b[0;32m      6\u001b[0m     \u001b[1;32mdef\u001b[0m \u001b[0mgreeting\u001b[0m\u001b[1;33m(\u001b[0m\u001b[1;33m)\u001b[0m\u001b[1;33m:\u001b[0m\u001b[1;33m\u001b[0m\u001b[0m\n",
      "\u001b[1;31mTypeError\u001b[0m: super() takes at least 1 argument (0 given)"
     ]
    }
   ],
   "source": [
    "a = Person(\"Bob\")\n",
    "b = MailPerson(\"Angy\", \"Angy@mail.com\") # python27だとエラーでるよ？"
   ]
  },
  {
   "cell_type": "code",
   "execution_count": 69,
   "metadata": {},
   "outputs": [
    {
     "name": "stdout",
     "output_type": "stream",
     "text": [
      "<bound method Person.greeting of <__main__.Person instance at 0x0000000006202608>>\n"
     ]
    }
   ],
   "source": [
    "print a.greeting"
   ]
  },
  {
   "cell_type": "code",
   "execution_count": 62,
   "metadata": {},
   "outputs": [
    {
     "ename": "AttributeError",
     "evalue": "Human instance has no attribute 'greeting'",
     "output_type": "error",
     "traceback": [
      "\u001b[1;31m\u001b[0m",
      "\u001b[1;31mAttributeError\u001b[0mTraceback (most recent call last)",
      "\u001b[1;32m<ipython-input-62-207a23b28745>\u001b[0m in \u001b[0;36m<module>\u001b[1;34m()\u001b[0m\n\u001b[1;32m----> 1\u001b[1;33m \u001b[0mb\u001b[0m\u001b[1;33m.\u001b[0m\u001b[0mgreeting\u001b[0m\u001b[1;33m\u001b[0m\u001b[0m\n\u001b[0m",
      "\u001b[1;31mAttributeError\u001b[0m: Human instance has no attribute 'greeting'"
     ]
    }
   ],
   "source": [
    "b.greeting"
   ]
  },
  {
   "cell_type": "markdown",
   "metadata": {},
   "source": [
    "## 3. プロパティによる属性値の取得、設定\n",
    "\n",
    "オブジェクト指向言語のなかには、外部から直接アクセスてきない非公開というオブジェクト属性をサポートしているものがある。そもそも非公開にする理由には外部から変更されては結果が変わるなどの影響がでてしまうことが困る場合などである。他の言語ではgetter()、setter()を定義してメソッド経由にしてアクセスさせるやり方をするものもあるがpythonではプロパティを使用する。\n",
    "\n",
    "- @property<br>\n",
    "ゲッターメソッドの前につけるデコレータ\n",
    "\n",
    "- @name.setter<br>\n",
    "セッターメソッドの前につけるデコレータ"
   ]
  },
  {
   "cell_type": "code",
   "execution_count": 24,
   "metadata": {
    "collapsed": true
   },
   "outputs": [],
   "source": [
    "class Duck():\n",
    "    def __init__(self, input_name):\n",
    "        self.__hidden_name = input_name # 外から直接アクセスできないようにする場合は\"__\"を先頭に付与する\n",
    "    @property\n",
    "    def name(self):\n",
    "        print 'inside the getter'\n",
    "        return self.__hidden_name\n",
    "    @name.setter\n",
    "    def name(self, input_name):\n",
    "        print 'inside the setter' # printされていないyo?\n",
    "        self.__hidden_name = input_name"
   ]
  },
  {
   "cell_type": "code",
   "execution_count": 19,
   "metadata": {},
   "outputs": [
    {
     "name": "stdout",
     "output_type": "stream",
     "text": [
      "inside the getter\n"
     ]
    },
    {
     "data": {
      "text/plain": [
       "'Howard'"
      ]
     },
     "execution_count": 19,
     "metadata": {},
     "output_type": "execute_result"
    }
   ],
   "source": [
    "fowl = Duck('Howard')\n",
    "fowl.name"
   ]
  },
  {
   "cell_type": "code",
   "execution_count": 20,
   "metadata": {},
   "outputs": [
    {
     "data": {
      "text/plain": [
       "'Donald'"
      ]
     },
     "execution_count": 20,
     "metadata": {},
     "output_type": "execute_result"
    }
   ],
   "source": [
    "fowl.name = 'Donald'\n",
    "fowl.name"
   ]
  },
  {
   "cell_type": "markdown",
   "metadata": {},
   "source": [
    "クラス定義の外から直接見えないようにするには先頭にアンダースコア\"_\"を２つつけて命名する。\n",
    "以下を実行するとエラーになる。"
   ]
  },
  {
   "cell_type": "raw",
   "metadata": {},
   "source": [
    "fowl.__hidden_name"
   ]
  }
 ],
 "metadata": {
  "kernelspec": {
   "display_name": "Python 2",
   "language": "python",
   "name": "python2"
  },
  "language_info": {
   "codemirror_mode": {
    "name": "ipython",
    "version": 2
   },
   "file_extension": ".py",
   "mimetype": "text/x-python",
   "name": "python",
   "nbconvert_exporter": "python",
   "pygments_lexer": "ipython2",
   "version": "2.7.14"
  }
 },
 "nbformat": 4,
 "nbformat_minor": 2
}

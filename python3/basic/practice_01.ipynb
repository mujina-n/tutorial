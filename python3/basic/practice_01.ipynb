{
 "cells": [
  {
   "cell_type": "markdown",
   "metadata": {},
   "source": [
    "# Pythonの基本\n",
    "\n",
    "この練習ではPythonの基本を学習する。"
   ]
  },
  {
   "cell_type": "markdown",
   "metadata": {},
   "source": [
    "## 1. 型\n",
    "\n",
    "pythonではすべての型をオブジェクトとして実装している。\n",
    "オブジェクトには数値や文字列、bool値のデータ型があり変更できるデータを**ミュータブル**、変更できないデータを**イミュータブル**と呼ぶ。"
   ]
  },
  {
   "cell_type": "code",
   "execution_count": 9,
   "metadata": {},
   "outputs": [
    {
     "name": "stdout",
     "output_type": "stream",
     "text": [
      "1\n"
     ]
    },
    {
     "data": {
      "text/plain": [
       "int"
      ]
     },
     "execution_count": 9,
     "metadata": {},
     "output_type": "execute_result"
    }
   ],
   "source": [
    "print (1)\n",
    "type(1)"
   ]
  },
  {
   "cell_type": "code",
   "execution_count": 10,
   "metadata": {},
   "outputs": [
    {
     "name": "stdout",
     "output_type": "stream",
     "text": [
      "abc\n"
     ]
    },
    {
     "data": {
      "text/plain": [
       "str"
      ]
     },
     "execution_count": 10,
     "metadata": {},
     "output_type": "execute_result"
    }
   ],
   "source": [
    "print (\"abc\")\n",
    "type(\"abc\")"
   ]
  },
  {
   "cell_type": "markdown",
   "metadata": {},
   "source": [
    "## 2. 変数\n",
    "変数とはオブジェクトの名前にあたる。値自体ではなく値の参照である。"
   ]
  },
  {
   "cell_type": "code",
   "execution_count": 1,
   "metadata": {},
   "outputs": [
    {
     "name": "stdout",
     "output_type": "stream",
     "text": [
      "1\n",
      "2\n"
     ]
    }
   ],
   "source": [
    "a=1\n",
    "b=2\n",
    "print (a)\n",
    "a=b\n",
    "print (a)"
   ]
  },
  {
   "cell_type": "markdown",
   "metadata": {},
   "source": [
    "### 2.1. 変数の命名規約\n",
    "大文字と小文字は区別され、数字は先頭文字としては使えない。また、先頭がアンダースコア\"_”の名前は特別扱いされるため意味がない命名は極力避ける。\n",
    "変数名として使用できる文字は以下のとおり。\n",
    "- 小文字の英字[a-z]\n",
    "- 大文字の英字[A-Z]\n",
    "- 数字[0-9]\n",
    "- アンダースコア[_]"
   ]
  },
  {
   "cell_type": "markdown",
   "metadata": {},
   "source": [
    "### 2.2.予約語\n",
    "以下の名前はPythonで使用するため、変数名には指定できない。\n",
    " \n",
    "<table align=\"left\" border=\"1px\" cellpadding=\"1px\">\n",
    "    <tr>\n",
    "        <td>False</td>\n",
    "        <td>class</td>\n",
    "        <td>finally</td>\n",
    "        <td>is</td>\n",
    "        <td>return</td>\n",
    "    </tr>\n",
    "    <tr>\n",
    "        <td>None</td>\n",
    "        <td>continue</td>\n",
    "        <td>for</td>\n",
    "        <td>lambda</td>\n",
    "        <td>try</td>\n",
    "    </tr>\n",
    "    <tr>\n",
    "        <td>True</td>\n",
    "        <td>def</td>\n",
    "        <td>from</td>\n",
    "        <td>nonlocal</td>\n",
    "        <td>while</td>\n",
    "    </tr>\n",
    "    <tr>\n",
    "        <td>and</td>\n",
    "        <td>del</td>\n",
    "        <td>global</td>\n",
    "        <td>not</td>\n",
    "        <td>with</td>\n",
    "    </tr>\n",
    "    <tr>\n",
    "        <td>as</td>\n",
    "        <td>elif</td>\n",
    "        <td>if</td>\n",
    "        <td>or</td>\n",
    "        <td>yield</td>\n",
    "    </tr>\n",
    "    <tr>\n",
    "        <td>assert</td>\n",
    "        <td>else</td>\n",
    "        <td>import</td>\n",
    "        <td>pass</td>\n",
    "        <td>break</td>\n",
    "    </tr>\n",
    "    <tr>\n",
    "        <td>except</td>\n",
    "        <td>in</td>\n",
    "        <td>raise</td>\n",
    "    </tr>\n",
    "</table>"
   ]
  },
  {
   "cell_type": "markdown",
   "metadata": {},
   "source": [
    "## 3. 数値\n",
    "数値のデータ型には整数intと浮動小数点数floatを扱うことができる。\n",
    "Python2ではintのサイズは32ビットに制限されており、それ以上のサイズについてはlongの64ビットで対応することになっていたが、Python3ではlongがデータ型からなくなりintは64ビットより大きな数値表現ができるようになった。"
   ]
  },
  {
   "cell_type": "code",
   "execution_count": 9,
   "metadata": {},
   "outputs": [
    {
     "data": {
      "text/plain": [
       "1"
      ]
     },
     "execution_count": 9,
     "metadata": {},
     "output_type": "execute_result"
    }
   ],
   "source": [
    "int(1)"
   ]
  },
  {
   "cell_type": "code",
   "execution_count": 10,
   "metadata": {},
   "outputs": [
    {
     "data": {
      "text/plain": [
       "1"
      ]
     },
     "execution_count": 10,
     "metadata": {},
     "output_type": "execute_result"
    }
   ],
   "source": [
    "int(1.0)"
   ]
  },
  {
   "cell_type": "code",
   "execution_count": 11,
   "metadata": {},
   "outputs": [
    {
     "data": {
      "text/plain": [
       "1.0"
      ]
     },
     "execution_count": 11,
     "metadata": {},
     "output_type": "execute_result"
    }
   ],
   "source": [
    "float(1)"
   ]
  },
  {
   "cell_type": "code",
   "execution_count": 12,
   "metadata": {},
   "outputs": [
    {
     "data": {
      "text/plain": [
       "1.0"
      ]
     },
     "execution_count": 12,
     "metadata": {},
     "output_type": "execute_result"
    }
   ],
   "source": [
    "float(1.0)"
   ]
  },
  {
   "cell_type": "code",
   "execution_count": 18,
   "metadata": {},
   "outputs": [
    {
     "data": {
      "text/plain": [
       "10000.0"
      ]
     },
     "execution_count": 18,
     "metadata": {},
     "output_type": "execute_result"
    }
   ],
   "source": [
    "1.0e4"
   ]
  },
  {
   "cell_type": "code",
   "execution_count": 16,
   "metadata": {},
   "outputs": [
    {
     "data": {
      "text/plain": [
       "int"
      ]
     },
     "execution_count": 16,
     "metadata": {},
     "output_type": "execute_result"
    }
   ],
   "source": [
    "type(1)"
   ]
  },
  {
   "cell_type": "code",
   "execution_count": 14,
   "metadata": {},
   "outputs": [
    {
     "data": {
      "text/plain": [
       "float"
      ]
     },
     "execution_count": 14,
     "metadata": {},
     "output_type": "execute_result"
    }
   ],
   "source": [
    "type(1.0)"
   ]
  },
  {
   "cell_type": "markdown",
   "metadata": {},
   "source": [
    "### 3.1.算術演算子\n",
    "数値の計算に必要な演算子については以下のようなものがある。\n",
    "計算式の優先順位は他の言語同様に加減算より乗除算の方が先に計算される。\n",
    " \n",
    "<table align=\"left\" border=\"1px\" cellpadding=\"1px\">\n",
    "    <tr align=\"left\">\n",
    "        <th>演算子</th>\n",
    "        <th>意味</th>\n",
    "        <th>例</th>\n",
    "        <th>結果</th>\n",
    "    </tr>\n",
    "    <tr align=\"left\">\n",
    "        <td>+</td>\n",
    "        <td>加算</td>\n",
    "        <td>5 + 8</td>\n",
    "        <td>13</td>\n",
    "    </tr>\n",
    "    <tr align=\"left\">\n",
    "        <td>-</td>\n",
    "        <td>減算</td>\n",
    "        <td>90 - 10</td>\n",
    "        <td>80</td>\n",
    "    </tr>\n",
    "    <tr align=\"left\">\n",
    "        <td>\\*</td>\n",
    "        <td>乗算</td>\n",
    "        <td>4 \\* 7</td>\n",
    "        <td>28</td>\n",
    "    </tr>\n",
    "    <tr align=\"left\">\n",
    "        <td>/</td>\n",
    "        <td>除算</td>\n",
    "        <td>7 / 2</td>\n",
    "        <td>3.5</td>\n",
    "    </tr>\n",
    "    <tr align=\"left\">\n",
    "        <td>//</td>\n",
    "        <td>除算(切捨て)</td>\n",
    "        <td>7 // 2</td>\n",
    "        <td>3</td>\n",
    "    </tr>\n",
    "    <tr align=\"left\">\n",
    "        <td>%</td>\n",
    "        <td>剰余</td>\n",
    "        <td>7 % 3</td>\n",
    "        <td>1</td>\n",
    "    </tr>\n",
    "    <tr align=\"left\">\n",
    "        <td> \\*\\* </td>\n",
    "        <td>指数</td>\n",
    "        <td>3 **** 4</td>\n",
    "        <td>81</td>\n",
    "    </tr>\n",
    "</table>"
   ]
  },
  {
   "cell_type": "markdown",
   "metadata": {},
   "source": [
    "異なる数値型を混ぜて使用するとPythonが自動的に変換する。以下では9/3で3.0になるため、5と足した時に桁数の大きいほうに合わせている。"
   ]
  },
  {
   "cell_type": "code",
   "execution_count": 2,
   "metadata": {},
   "outputs": [
    {
     "data": {
      "text/plain": [
       "8.0"
      ]
     },
     "execution_count": 2,
     "metadata": {},
     "output_type": "execute_result"
    }
   ],
   "source": [
    "5+9/3"
   ]
  },
  {
   "cell_type": "markdown",
   "metadata": {},
   "source": [
    "商と剰余をまとめて取得するにはdivmod関数を使用すると便利。"
   ]
  },
  {
   "cell_type": "code",
   "execution_count": 3,
   "metadata": {},
   "outputs": [
    {
     "data": {
      "text/plain": [
       "4"
      ]
     },
     "execution_count": 3,
     "metadata": {},
     "output_type": "execute_result"
    }
   ],
   "source": [
    "9%5"
   ]
  },
  {
   "cell_type": "code",
   "execution_count": 4,
   "metadata": {},
   "outputs": [
    {
     "data": {
      "text/plain": [
       "(1, 4)"
      ]
     },
     "execution_count": 4,
     "metadata": {},
     "output_type": "execute_result"
    }
   ],
   "source": [
    "divmod(9,5)"
   ]
  },
  {
   "cell_type": "markdown",
   "metadata": {},
   "source": [
    "### 3.2.基数\n",
    "整数は、プレフィックスで特に基数を指定しない場合、10進数と見なされる。\n",
    "Pythonでは10進数以外に3種類の基数を使ってリテラルを整数を表すことができる。\n",
    "- 0b,0Bは2進数\n",
    "- 0o,0Oは8進数\n",
    "- 0x,0Xは16進数"
   ]
  },
  {
   "cell_type": "code",
   "execution_count": 6,
   "metadata": {},
   "outputs": [
    {
     "data": {
      "text/plain": [
       "2"
      ]
     },
     "execution_count": 6,
     "metadata": {},
     "output_type": "execute_result"
    }
   ],
   "source": [
    "0b10"
   ]
  },
  {
   "cell_type": "code",
   "execution_count": 7,
   "metadata": {},
   "outputs": [
    {
     "data": {
      "text/plain": [
       "8"
      ]
     },
     "execution_count": 7,
     "metadata": {},
     "output_type": "execute_result"
    }
   ],
   "source": [
    "0o10"
   ]
  },
  {
   "cell_type": "code",
   "execution_count": 8,
   "metadata": {},
   "outputs": [
    {
     "data": {
      "text/plain": [
       "16"
      ]
     },
     "execution_count": 8,
     "metadata": {},
     "output_type": "execute_result"
    }
   ],
   "source": [
    "0x10"
   ]
  },
  {
   "cell_type": "markdown",
   "metadata": {},
   "source": [
    "## 4. 文字列\n",
    "文字列は文字のシーケンスであり、Pythonの文字列はイミュータブル（書き換え不可）のオブジェクトである。ただし、文字列およびその部分文字列をコピーして操作することができる。"
   ]
  },
  {
   "cell_type": "markdown",
   "metadata": {},
   "source": [
    "文字列はシングルクォートかダブルクォートで文字を囲むかstr関数を使用する。"
   ]
  },
  {
   "cell_type": "code",
   "execution_count": 19,
   "metadata": {},
   "outputs": [
    {
     "data": {
      "text/plain": [
       "'python'"
      ]
     },
     "execution_count": 19,
     "metadata": {},
     "output_type": "execute_result"
    }
   ],
   "source": [
    "'python'"
   ]
  },
  {
   "cell_type": "code",
   "execution_count": 20,
   "metadata": {},
   "outputs": [
    {
     "data": {
      "text/plain": [
       "'python'"
      ]
     },
     "execution_count": 20,
     "metadata": {},
     "output_type": "execute_result"
    }
   ],
   "source": [
    "\"python\""
   ]
  },
  {
   "cell_type": "code",
   "execution_count": 38,
   "metadata": {},
   "outputs": [
    {
     "name": "stdout",
     "output_type": "stream",
     "text": [
      "10000000000.0\n",
      "<class 'str'>\n"
     ]
    }
   ],
   "source": [
    "a=str(1.0e10)\n",
    "print(a)\n",
    "print(type(a))"
   ]
  },
  {
   "cell_type": "markdown",
   "metadata": {},
   "source": [
    "どちらかのクォートに含めることもできる。"
   ]
  },
  {
   "cell_type": "code",
   "execution_count": 23,
   "metadata": {},
   "outputs": [
    {
     "data": {
      "text/plain": [
       "\"'Hellow,' python.\""
      ]
     },
     "execution_count": 23,
     "metadata": {},
     "output_type": "execute_result"
    }
   ],
   "source": [
    "\"'Hellow,' python.\""
   ]
  },
  {
   "cell_type": "markdown",
   "metadata": {},
   "source": [
    "複数行文字列にはクォートを3個連続で使用する。"
   ]
  },
  {
   "cell_type": "code",
   "execution_count": 30,
   "metadata": {},
   "outputs": [
    {
     "name": "stdout",
     "output_type": "stream",
     "text": [
      "あいうえお\n",
      "かきくけこ\n",
      "さしすせそ\n",
      "    ※行頭からの空白は文字として扱われる\n"
     ]
    }
   ],
   "source": [
    "sentence=\"\"\"あいうえお\n",
    "かきくけこ\n",
    "さしすせそ\n",
    "    ※行頭からの空白は文字として扱われる\"\"\"\n",
    "print(sentence)"
   ]
  },
  {
   "cell_type": "markdown",
   "metadata": {},
   "source": [
    "エスケープ文字については他の言語同様に、特定の文字の前にバックスラッシュ\"\\\"を入れることで表現できる。"
   ]
  },
  {
   "cell_type": "code",
   "execution_count": 34,
   "metadata": {},
   "outputs": [
    {
     "name": "stdout",
     "output_type": "stream",
     "text": [
      "あいう\n",
      "えお\n"
     ]
    }
   ],
   "source": [
    "sentence=\"あいう\\nえお\"\n",
    "print(sentence)"
   ]
  },
  {
   "cell_type": "markdown",
   "metadata": {},
   "source": [
    "### 4.1.文字列操作"
   ]
  },
  {
   "cell_type": "markdown",
   "metadata": {},
   "source": [
    "文字列の連結には+演算子を使用する。"
   ]
  },
  {
   "cell_type": "code",
   "execution_count": 44,
   "metadata": {},
   "outputs": [
    {
     "name": "stdout",
     "output_type": "stream",
     "text": [
      "abcdef\n",
      "abcdef\n"
     ]
    }
   ],
   "source": [
    "a='abc'\n",
    "b='def'\n",
    "\n",
    "c= a + b\n",
    "print(c)\n",
    "\n",
    "a+=b\n",
    "print(a)"
   ]
  },
  {
   "cell_type": "markdown",
   "metadata": {},
   "source": [
    "文字列の繰り返しには\\*演算子を使用する。"
   ]
  },
  {
   "cell_type": "code",
   "execution_count": 45,
   "metadata": {},
   "outputs": [
    {
     "name": "stdout",
     "output_type": "stream",
     "text": [
      "hogehogehoge\n"
     ]
    }
   ],
   "source": [
    "word='hoge'*3\n",
    "print(word)"
   ]
  },
  {
   "cell_type": "markdown",
   "metadata": {},
   "source": [
    "文字列から文字を抽出するにはオフセットを指定する。\"-\"を使用すると文字列の逆から抽出される。"
   ]
  },
  {
   "cell_type": "code",
   "execution_count": 46,
   "metadata": {},
   "outputs": [
    {
     "name": "stdout",
     "output_type": "stream",
     "text": [
      "1234567890\n"
     ]
    }
   ],
   "source": [
    "sentence='1234567890'\n",
    "print(sentence)"
   ]
  },
  {
   "cell_type": "code",
   "execution_count": 50,
   "metadata": {},
   "outputs": [
    {
     "data": {
      "text/plain": [
       "'1'"
      ]
     },
     "execution_count": 50,
     "metadata": {},
     "output_type": "execute_result"
    }
   ],
   "source": [
    "sentence[0]"
   ]
  },
  {
   "cell_type": "code",
   "execution_count": 51,
   "metadata": {},
   "outputs": [
    {
     "data": {
      "text/plain": [
       "'0'"
      ]
     },
     "execution_count": 51,
     "metadata": {},
     "output_type": "execute_result"
    }
   ],
   "source": [
    "sentence[-1]"
   ]
  },
  {
   "cell_type": "markdown",
   "metadata": {},
   "source": [
    "ちなみに文字列はイミュータブルなので直接文字を書き換えるような操作はエラーになる。"
   ]
  },
  {
   "cell_type": "raw",
   "metadata": {},
   "source": [
    "sentence[0]='a'"
   ]
  },
  {
   "cell_type": "markdown",
   "metadata": {},
   "source": [
    "文字列から部分文字列を抽出するには**スライス**を使用する。\n",
    " \n",
    "** 文字列\\[start:end:step\\] **"
   ]
  },
  {
   "cell_type": "markdown",
   "metadata": {},
   "source": [
    "- \\[:\\]は、先頭から末尾までのシーケンス全体を抽出。"
   ]
  },
  {
   "cell_type": "code",
   "execution_count": 1,
   "metadata": {},
   "outputs": [
    {
     "name": "stdout",
     "output_type": "stream",
     "text": [
      "1234567890\n"
     ]
    }
   ],
   "source": [
    "sentence=\"1234567890\"\n",
    "print(sentence[:])"
   ]
  },
  {
   "cell_type": "markdown",
   "metadata": {},
   "source": [
    "- \\[start: \\]は、startオフセット(0番目から開始)から末尾までのシーケンスを抽出。"
   ]
  },
  {
   "cell_type": "code",
   "execution_count": 2,
   "metadata": {},
   "outputs": [
    {
     "name": "stdout",
     "output_type": "stream",
     "text": [
      "234567890\n"
     ]
    }
   ],
   "source": [
    "print(sentence[1:])"
   ]
  },
  {
   "cell_type": "markdown",
   "metadata": {},
   "source": [
    "- \\[:end\\]は、先頭からend-1オフセットまでのシーケンスを抽出。"
   ]
  },
  {
   "cell_type": "code",
   "execution_count": 3,
   "metadata": {},
   "outputs": [
    {
     "name": "stdout",
     "output_type": "stream",
     "text": [
      "12\n"
     ]
    }
   ],
   "source": [
    "print(sentence[:2])"
   ]
  },
  {
   "cell_type": "markdown",
   "metadata": {},
   "source": [
    "- \\[start:end\\]は、startオフセットからend-1オフセットまでのシーケンスを抽出。"
   ]
  },
  {
   "cell_type": "code",
   "execution_count": 5,
   "metadata": {},
   "outputs": [
    {
     "name": "stdout",
     "output_type": "stream",
     "text": [
      "456\n"
     ]
    }
   ],
   "source": [
    "print(sentence[3:6])"
   ]
  },
  {
   "cell_type": "markdown",
   "metadata": {},
   "source": [
    "- \\[start:end:step\\]は、stepごとのstartオフセットからend-1オフセットまでのシーケンスを抽出。"
   ]
  },
  {
   "cell_type": "code",
   "execution_count": 7,
   "metadata": {},
   "outputs": [
    {
     "name": "stdout",
     "output_type": "stream",
     "text": [
      "1357\n"
     ]
    }
   ],
   "source": [
    "print(sentence[0:-2:2])"
   ]
  },
  {
   "cell_type": "markdown",
   "metadata": {},
   "source": [
    "### 4.2.その他の文字列操作\n",
    "以下の操作もよく行うので合わせて覚えておく。\n",
    " \n",
    "<table align=\"left\" border=\"1px\" cellpadding=\"1px\">\n",
    "    <tr align=\"left\">\n",
    "        <th>概要</th>\n",
    "        <th>関数</th>\n",
    "        <th>例</th>\n",
    "        <th>結果</th>\n",
    "        <th>備考</th>\n",
    "    </tr>\n",
    "    <tr align=\"left\">\n",
    "        <td>シーケンスの長さの取得</td>\n",
    "        <td>len\\(sequece\\)</td>\n",
    "        <td>len\\(\"12345\"\\)</td>\n",
    "        <td>5</td>\n",
    "        <td> </td>\n",
    "    </tr>\n",
    "    <tr align=\"left\">\n",
    "        <td>文字列から配列の取得</td>\n",
    "        <td>文字列.split\\(separator\\)</td>\n",
    "        <td>\"1,2,3,4,5\".split\\(','\\)</td>\n",
    "        <td>\\['1','2','3','4',5'\\]</td>\n",
    "        <td>セパレータを使用しない場合は空白文字(改行、タブ、スペース)を使用</td>\n",
    "    </tr>\n",
    "    <tr align=\"left\">\n",
    "        <td>分割文字配列の取得</td>\n",
    "        <td>文字列.split(',')</td>\n",
    "        <td>\"1,2,3,4,5\".split\\(','\\)</td>\n",
    "        <td>\\['1','2','3','4',5'\\]</td>\n",
    "        <td>セパレータを使用しない場合は空白文字(改行、タブ、スペース)を使用</td>\n",
    "    </tr>\n",
    "</table>"
   ]
  }
 ],
 "metadata": {
  "kernelspec": {
   "display_name": "Python 3",
   "language": "python",
   "name": "python3"
  },
  "language_info": {
   "codemirror_mode": {
    "name": "ipython",
    "version": 3
   },
   "file_extension": ".py",
   "mimetype": "text/x-python",
   "name": "python",
   "nbconvert_exporter": "python",
   "pygments_lexer": "ipython3",
   "version": "3.6.4"
  }
 },
 "nbformat": 4,
 "nbformat_minor": 2
}

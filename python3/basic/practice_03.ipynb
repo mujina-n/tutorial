{
 "cells": [
  {
   "cell_type": "markdown",
   "metadata": {},
   "source": [
    "# コード構造\n",
    "\n",
    "ここではコードを書くための基本的な制御文、繰り返し処理などを中心に学習する。"
   ]
  },
  {
   "cell_type": "markdown",
   "metadata": {},
   "source": [
    "## 1. 非コード\n",
    "\n",
    "コードには他の人が参照した時に一目でわかるように非コードで説明を記載するなどよく行う。この非コードの事をコメントという。"
   ]
  },
  {
   "cell_type": "code",
   "execution_count": 4,
   "metadata": {},
   "outputs": [],
   "source": [
    "# 行末までをコメント"
   ]
  },
  {
   "cell_type": "markdown",
   "metadata": {},
   "source": [
    "## 2.  行の継続\n",
    "\n",
    "行末にバックスラッシュ\"\\\"をおくと行が続いていると認識する。"
   ]
  },
  {
   "cell_type": "code",
   "execution_count": 6,
   "metadata": {},
   "outputs": [
    {
     "name": "stdout",
     "output_type": "stream",
     "text": [
      "abcdefghijklmnopqrstuvwxyz\n"
     ]
    }
   ],
   "source": [
    "alphabet = 'abcdefg' + \\\n",
    "            'hijklmnop' + \\\n",
    "            'qrstuv' + \\\n",
    "            'wxyz'\n",
    "print alphabet"
   ]
  },
  {
   "cell_type": "markdown",
   "metadata": {},
   "source": [
    "## 3. 制御文\n"
   ]
  },
  {
   "cell_type": "markdown",
   "metadata": {},
   "source": [
    "### 3.1 分岐\n",
    "\n",
    "他の言語にもあるif文を使用する。複数の比較を行わなければならない場合はand、or、notのブール演算子を使って最終的な判定を行っている。<br>\n",
    "次の例では「val = 7」をセットしているため、「5 < val」はTrue、「val < 10」もTrueで最後に「True and True」でTrueとなる。<br>"
   ]
  },
  {
   "cell_type": "code",
   "execution_count": 14,
   "metadata": {},
   "outputs": [
    {
     "data": {
      "text/plain": [
       "True"
      ]
     },
     "execution_count": 14,
     "metadata": {},
     "output_type": "execute_result"
    }
   ],
   "source": [
    "val = 7\n",
    "5 < val and val < 10"
   ]
  },
  {
   "cell_type": "markdown",
   "metadata": {},
   "source": [
    "また、上記例の\"<\"を比較演算子と呼び判定など用いられる。\n",
    "\n",
    "<table align=\"left\" border=\"1px\" cellpadding=\"1px\">\n",
    "    <tr align=\"left\">\n",
    "        <th>演算子</th>\n",
    "        <th>意味</th>\n",
    "    </tr>\n",
    "    <tr align=\"left\">\n",
    "        <td>==</td>\n",
    "        <td>等しい</td>\n",
    "    </tr>\n",
    "    <tr align=\"left\">\n",
    "        <td>!=</td>\n",
    "        <td>等しくない</td>\n",
    "    </tr>\n",
    "    <tr align=\"left\">\n",
    "        <td><</td>\n",
    "        <td>より小さい</td>\n",
    "    </tr>\n",
    "    <tr align=\"left\">\n",
    "        <td>></td>\n",
    "        <td>より大きい</td>\n",
    "    </tr>\n",
    "    <tr align=\"left\">\n",
    "        <td><</td>\n",
    "        <td>より小さい</td>\n",
    "    </tr>\n",
    "</table>"
   ]
  },
  {
   "cell_type": "code",
   "execution_count": 13,
   "metadata": {},
   "outputs": [
    {
     "name": "stdout",
     "output_type": "stream",
     "text": [
      "val is invalid!\n"
     ]
    }
   ],
   "source": [
    "val = 9\n",
    "\n",
    "if val == 1:\n",
    "    print \"val is low\"\n",
    "\n",
    "elif 2 <= val <= 7:       # 1個の変数で複数の比較を行うことができる\n",
    "    print \"val is middle\"\n",
    "\n",
    "elif 7 < val and val < 9: # 他の言語同様にandの他にorも指定できる\n",
    "    print \"val is heigh\"\n",
    "\n",
    "else:\n",
    "    print \"val is invalid!\""
   ]
  }
 ],
 "metadata": {
  "kernelspec": {
   "display_name": "Python 2",
   "language": "python",
   "name": "python2"
  },
  "language_info": {
   "codemirror_mode": {
    "name": "ipython",
    "version": 2
   },
   "file_extension": ".py",
   "mimetype": "text/x-python",
   "name": "python",
   "nbconvert_exporter": "python",
   "pygments_lexer": "ipython2",
   "version": "2.7.14"
  }
 },
 "nbformat": 4,
 "nbformat_minor": 2
}

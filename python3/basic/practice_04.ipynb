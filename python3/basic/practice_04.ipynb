{
 "cells": [
  {
   "cell_type": "markdown",
   "metadata": {},
   "source": [
    "# オブジェクトとクラス\n",
    "\n",
    "文字列や辞書などのデータ構造と関数やモジュールなどのコード構造をみてきたが\n",
    "オブジェクトとはカスタムデータ構造を扱い、pythonに含まれるものは数値からモジュールに至るまですべてオブジェクトである。\n",
    "オブジェクトには以下のものが含まれる。\n",
    "- 属性(変数、データ)<br>\n",
    "- 関数(メソッド、コード)<br>\n",
    "\n",
    "※モジュールと異なるのは、それぞれの属性の異なる複数のオブジェクトを同時に持つことができる点。"
   ]
  },
  {
   "cell_type": "markdown",
   "metadata": {},
   "source": [
    "## 1. クラス定義\n",
    "\n",
    "クラス定義ではまずclassキーワードを指定してクラス名を定義する。関数を定義する場合はclassキーワードよりインデントを下げてdefキーワードを指定して関数名を定義する。\n",
    "すべてのクラス定義で\\__init\\__を定義する必要はなく、\\__init\\__は同じクラスで作られた他のオブジェクトと区別するために必要な処理を行うために使用する。"
   ]
  },
  {
   "cell_type": "code",
   "execution_count": 3,
   "metadata": {
    "collapsed": true
   },
   "outputs": [],
   "source": [
    "class Person(): # 通例としてクラス名は先頭大文字\n",
    "    def __init__(self, name): # __init__()を定義する場合は第一引数はselfを指定しなればならない。\n",
    "        self.name = name\n",
    "    def methodA(): # 通例として関数名はcamel形式?\n",
    "        pass"
   ]
  },
  {
   "cell_type": "markdown",
   "metadata": {},
   "source": [
    "作ったクラスをオブジェクトとして使用するには左辺に代入する変数と右辺にクラスを指定すればよいが、以下のような手順を踏んでいる。\n",
    "- Personクラス定義の検索\n",
    "- メモリ内に新しいオブジェクトのインスタンスを生成\n",
    "- 生成オブジェクトに引数を渡して\\__init\\__メソッド呼び出し\n",
    "- 引数の値をオブジェクトに格納\n",
    "- 生成したオブジェクトの参照を左辺の変数に返却"
   ]
  },
  {
   "cell_type": "code",
   "execution_count": 5,
   "metadata": {},
   "outputs": [
    {
     "name": "stdout",
     "output_type": "stream",
     "text": [
      "teacher\n"
     ]
    }
   ],
   "source": [
    "pepoleA = Person('teacher')\n",
    "print pepoleA.name"
   ]
  },
  {
   "cell_type": "markdown",
   "metadata": {},
   "source": [
    "# 2. 継承\n",
    "\n",
    "既存のクラスと同じような処理が必要な場合は新しいクラスで既存のクラスを継承する。新しいクラスでは追加や変更したい部分だけを定義する。\n",
    "上書きされた古い機能は呼び出されなくなる。これをオーバーライドという。似たようなキーワードでオーバーロードという言葉があるがこちらは引数を変更して同じ名前で関数を複数定義することを指す。"
   ]
  }
 ],
 "metadata": {
  "kernelspec": {
   "display_name": "Python 2",
   "language": "python",
   "name": "python2"
  },
  "language_info": {
   "codemirror_mode": {
    "name": "ipython",
    "version": 2
   },
   "file_extension": ".py",
   "mimetype": "text/x-python",
   "name": "python",
   "nbconvert_exporter": "python",
   "pygments_lexer": "ipython2",
   "version": "2.7.14"
  }
 },
 "nbformat": 4,
 "nbformat_minor": 2
}

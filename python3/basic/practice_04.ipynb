{
 "cells": [
  {
   "cell_type": "markdown",
   "metadata": {},
   "source": [
    "# オブジェクトとクラス\n",
    "\n",
    "文字列や辞書などのデータ構造と関数やモジュールなどのコード構造をみてきたが\n",
    "オブジェクトとはカスタムデータ構造を扱い、pythonに含まれるものは数値からモジュールに至るまですべてオブジェクトである。\n",
    "オブジェクトには以下のものが含まれる。\n",
    "- 属性(変数、データ)<br>\n",
    "- 関数(メソッド、コード)<br>\n",
    "\n",
    "※モジュールと異なるのは、それぞれの属性の異なる複数のオブジェクトを同時に持つことができる点。"
   ]
  },
  {
   "cell_type": "markdown",
   "metadata": {},
   "source": [
    "### モジュールとの使い分け\n",
    "\n",
    "- メソッドは同じだが属性が異なる複数のインスタンスを必要とする場合はオブジェクトを使用する。\n",
    "- クラスは継承をサポートするが、モジュールはサポートしない。\n",
    "- シングルトンとして利用するものは、モジュールとして実装する。\n",
    "- DtoやForm等のエンティティ(集合)の概念で値を保持する場合はクラスとして定義する。"
   ]
  },
  {
   "cell_type": "markdown",
   "metadata": {},
   "source": [
    "## 1. クラス定義\n",
    "\n",
    "クラス定義ではまずclassキーワードを指定してクラス名を定義する。関数を定義する場合はclassキーワードよりインデントを下げてdefキーワードを指定して関数名を定義する。\n",
    "すべてのクラス定義で\\__init\\__を定義する必要はなく、\\__init\\__は同じクラスで作られた他のオブジェクトと区別するために必要な処理を行うために使用する。"
   ]
  },
  {
   "cell_type": "code",
   "execution_count": 1,
   "metadata": {
    "collapsed": true
   },
   "outputs": [],
   "source": [
    "class Person(): # CapWords形式（=最初大文字でその後はcamel形式）\n",
    "\n",
    "    def __init__(self, name): # __init__()を定義する場合は第一引数はselfを指定しなればならない。\n",
    "        self.name = name\n",
    "\n",
    "    def method_a(): # 関数名は全て小文字を使い、単語の区切りにアンダースコアを使用する。\n",
    "        pass"
   ]
  },
  {
   "cell_type": "markdown",
   "metadata": {},
   "source": [
    "作ったクラスをオブジェクトとして使用するには左辺に代入する変数と右辺にクラスを指定すればよいが、以下のような手順を踏んでいる。\n",
    "- Personクラス定義の検索\n",
    "- メモリ内に新しいオブジェクトのインスタンスを生成\n",
    "- 生成オブジェクトに引数を渡して\\__init\\__メソッド呼び出し\n",
    "- 引数の値をオブジェクトに格納\n",
    "- 生成したオブジェクトの参照を左辺の変数に返却"
   ]
  },
  {
   "cell_type": "code",
   "execution_count": 2,
   "metadata": {},
   "outputs": [
    {
     "name": "stdout",
     "output_type": "stream",
     "text": [
      "teacher\n"
     ]
    }
   ],
   "source": [
    "pepole_a = Person('teacher')\n",
    "print pepole_a.name"
   ]
  },
  {
   "cell_type": "markdown",
   "metadata": {},
   "source": [
    "# 2. 継承\n",
    "\n",
    "既存のクラスと同じような処理が必要な場合は新しいクラスで既存のクラスを継承する。新しいクラスでは追加や変更したい部分だけを定義する。\n",
    "上書きされた古い機能は呼び出されなくなる。これをオーバーライドという。似たようなキーワードでオーバーロードという言葉があるがこちらは引数を変更して同じ名前で関数を複数定義することを指す。また、上記説明の既存のクラスを親クラス（基底クラス、スーパークラス）、新しいクラスを子クラス（派生クラス、サブクラス）などと呼ぶ。"
   ]
  },
  {
   "cell_type": "code",
   "execution_count": 3,
   "metadata": {
    "collapsed": true
   },
   "outputs": [],
   "source": [
    "class Person():\n",
    "\n",
    "    def __init__(self, name):\n",
    "        self.name = name\n",
    "\n",
    "    def greeting():\n",
    "        return \"Hi, I'm a Person. My name is \" + name"
   ]
  },
  {
   "cell_type": "markdown",
   "metadata": {},
   "source": [
    "子クラスは親クラスを特化したものである。オブジェクト指向の専門用語でこの関係を「である(is-a)」関係と呼ぶ。\n",
    "また、下の例では\\__init\\__()内で親クラスの\\__init\\__()を呼び出しているが最初にsuper()キーワードで親クラスのコンストラクタを呼ぶことで親機能を初期化した形でオブジェクトを生成して、子クラスで機能を追加すれば親クラス＋の機能として子クラスを作成することができる。"
   ]
  },
  {
   "cell_type": "code",
   "execution_count": 4,
   "metadata": {},
   "outputs": [],
   "source": [
    "class MailPerson(Person): # Personを継承したクラス\n",
    "\n",
    "    def __init__(self, name, mail):\n",
    "        super().__init__(name) # self引数の親クラスへの受け渡しはpythonが行うので引数に設定しない\n",
    "        self.mail = mail\n",
    "\n",
    "    def greeting():\n",
    "        return \"How are you? My name is \" + name + \" Adress:\" + mail"
   ]
  },
  {
   "cell_type": "code",
   "execution_count": 5,
   "metadata": {},
   "outputs": [],
   "source": [
    "a = Person(\"Bob\")\n",
    "#b = MailPerson(\"Angy\", \"Angy@mail.com\") # python27だとエラーでるよ？"
   ]
  },
  {
   "cell_type": "code",
   "execution_count": 6,
   "metadata": {},
   "outputs": [
    {
     "name": "stdout",
     "output_type": "stream",
     "text": [
      "<bound method Person.greeting of <__main__.Person instance at 0x000000000645F088>>\n"
     ]
    }
   ],
   "source": [
    "print a.greeting"
   ]
  },
  {
   "cell_type": "raw",
   "metadata": {},
   "source": [
    "b.greeting"
   ]
  },
  {
   "cell_type": "markdown",
   "metadata": {},
   "source": [
    "## 3. プロパティによる属性値の取得、設定\n",
    "\n",
    "オブジェクト指向言語のなかには、外部から直接アクセスてきない非公開というオブジェクト属性をサポートしているものがある。そもそも非公開にする理由には外部から変更されては結果が変わるなどの影響がでてしまうことが困る場合などである。他の言語ではgetter()、setter()を定義してメソッド経由にしてアクセスさせるやり方をするものもあるがpythonではプロパティを使用する。\n",
    "\n",
    "- @property<br>\n",
    "ゲッターメソッドの前につけるデコレータ\n",
    "\n",
    "- @name.setter<br>\n",
    "セッターメソッドの前につけるデコレータ"
   ]
  },
  {
   "cell_type": "code",
   "execution_count": 7,
   "metadata": {
    "collapsed": true
   },
   "outputs": [],
   "source": [
    "class Duck():\n",
    "\n",
    "    def __init__(self, input_name):\n",
    "        self.__hidden_name = input_name # 外から直接アクセスできないようにする場合は\"__\"を先頭に付与する\n",
    "    \n",
    "    @property\n",
    "    def name(self):\n",
    "        print 'inside the getter'\n",
    "        return self.__hidden_name\n",
    "    \n",
    "    @name.setter\n",
    "    def name(self, input_name):\n",
    "        print 'inside the setter' # printされていないyo?\n",
    "        self.__hidden_name = input_name"
   ]
  },
  {
   "cell_type": "code",
   "execution_count": 8,
   "metadata": {},
   "outputs": [
    {
     "name": "stdout",
     "output_type": "stream",
     "text": [
      "inside the getter\n"
     ]
    },
    {
     "data": {
      "text/plain": [
       "'Howard'"
      ]
     },
     "execution_count": 8,
     "metadata": {},
     "output_type": "execute_result"
    }
   ],
   "source": [
    "fowl = Duck('Howard')\n",
    "fowl.name"
   ]
  },
  {
   "cell_type": "code",
   "execution_count": 9,
   "metadata": {},
   "outputs": [
    {
     "data": {
      "text/plain": [
       "'Donald'"
      ]
     },
     "execution_count": 9,
     "metadata": {},
     "output_type": "execute_result"
    }
   ],
   "source": [
    "fowl.name = 'Donald'\n",
    "fowl.name"
   ]
  },
  {
   "cell_type": "markdown",
   "metadata": {},
   "source": [
    "クラス定義の外から直接見えないようにするには先頭にアンダースコア\"_\"を２つつけて命名する。(マングリングと呼ぶ)<br>\n",
    "以下を実行するとエラーになる。"
   ]
  },
  {
   "cell_type": "raw",
   "metadata": {},
   "source": [
    "fowl.__hidden_name"
   ]
  },
  {
   "cell_type": "markdown",
   "metadata": {},
   "source": [
    "## 4. メソッドのタイプ\n",
    "代表的なメソッドとしては以下の３つが挙げられる。\n",
    "\n",
    "- インスタンスメソッド<br>\n",
    "メソッドの第1引数がselfの場合はインスタンスメソッドと呼ぶ。メソッドが呼び出されるとPythonはメソッドにオブジェクトを与える。<br>\n",
    "\n",
    "- クラスメソッド<br>\n",
    "クラスに加えた変更は全てのオブジェクトに影響を与えるメソッド。また、メソッドの第一引数自体はクラス自体となる。\n",
    "通例としてこの引数名はclsを使用する。<br>\n",
    "**@classmethod**デコレータを使用する。<br>\n",
    "\n",
    "- 静的メソッド<br>\n",
    "他の言語のstaticメソッドにあたる。インスタンス作成しなくても実行できる。<br>\n",
    "**@staticmethod**デコレータを使用する。<br>"
   ]
  },
  {
   "cell_type": "code",
   "execution_count": 10,
   "metadata": {
    "collapsed": true
   },
   "outputs": [],
   "source": [
    "class A():\n",
    "    \n",
    "    count = 0 # グローバル属性として定義\n",
    "    \n",
    "    def __init__(self): # インスタンスメソッド\n",
    "        A.count += 1\n",
    "    \n",
    "    def exclaim(self): # インスタンスメソッド\n",
    "        print \"I'm an A!\"\n",
    "    \n",
    "    @classmethod\n",
    "    def kids(cls): # クラスメソッド\n",
    "        print \"A has \" + str(cls.count) + \" little objects.\"\n",
    "    \n",
    "    @staticmethod # 静的メソッド\n",
    "    def commercial():\n",
    "        print \"Hello.\" + str(A.count)"
   ]
  },
  {
   "cell_type": "markdown",
   "metadata": {},
   "source": [
    "self.count()とした場合はオブジェクトインスタンスの属性になり、A.count()としているのでクラス属性を参照している。"
   ]
  },
  {
   "cell_type": "code",
   "execution_count": 11,
   "metadata": {},
   "outputs": [
    {
     "name": "stdout",
     "output_type": "stream",
     "text": [
      "A has 3 little objects.\n",
      "Hello.3\n",
      "Hello.3\n"
     ]
    }
   ],
   "source": [
    "easy_a = A()\n",
    "breezy_a = A()\n",
    "wheezy_a = A()\n",
    "A.kids()\n",
    "\n",
    "wheezy_a.commercial()\n",
    "A.commercial()"
   ]
  },
  {
   "cell_type": "markdown",
   "metadata": {},
   "source": [
    "### 特殊メソッド（マジックメソッド）\n",
    "先頭と末尾にダブルアンダースコア\"\\__\"で定義されているメソッドを指し、\\__init\\__()なども含まれるがここでは様々な演算子を実行する際に使用されているマジックメソッドを下記に示す。"
   ]
  },
  {
   "cell_type": "code",
   "execution_count": 12,
   "metadata": {},
   "outputs": [],
   "source": [
    "# このようなソース上では何気なく使用している比較だが実施には__eq__()メソッドが内部で呼び出されている。\n",
    "if 1 == 3:\n",
    "    pass"
   ]
  },
  {
   "cell_type": "markdown",
   "metadata": {},
   "source": [
    "比較のための特殊メソッド\n",
    "\n",
    "<table align=\"left\" border=\"1px\" cellpadding=\"1px\">\n",
    "    <tr align=\"left\">\n",
    "        <th>メソッド</th>\n",
    "        <th>意味</th>\n",
    "    </tr>\n",
    "    <tr align=\"left\">\n",
    "        <td>\\__eq\\__(self, other)</td>\n",
    "        <td>self == other</td>\n",
    "    </tr>\n",
    "    <tr align=\"left\">\n",
    "        <td>\\__ne\\__(self, other)</td>\n",
    "        <td>self != other</td>\n",
    "    </tr>\n",
    "    <tr align=\"left\">\n",
    "        <td>\\__lt\\__(self, other)</td>\n",
    "        <td>self < other</td>\n",
    "    </tr>\n",
    "    <tr align=\"left\">\n",
    "        <td>\\__gt\\__(self, other)</td>\n",
    "        <td>self > other</td>\n",
    "    </tr>\n",
    "    <tr align=\"left\">\n",
    "        <td>\\__le\\__(self, other)</td>\n",
    "        <td>self <= other</td>\n",
    "    </tr>\n",
    "    <tr align=\"left\">\n",
    "        <td>\\__ge\\__(self, other)</td>\n",
    "        <td>self >= other</td>\n",
    "    </tr>\n",
    "</table>"
   ]
  },
  {
   "cell_type": "markdown",
   "metadata": {},
   "source": [
    "算術計算のための特殊メソッド\n",
    "<table align=\"left\" border=\"1px\" cellpadding=\"1px\">\n",
    "    <tr align=\"left\">\n",
    "        <th>メソッド</th>\n",
    "        <th>意味</th>\n",
    "    </tr>\n",
    "    <tr align=\"left\">\n",
    "        <td>\\__add\\__(self, other)</td>\n",
    "        <td>self + other</td>\n",
    "    </tr>\n",
    "    <tr align=\"left\">\n",
    "        <td>\\__sub\\__(self, other)</td>\n",
    "        <td>self - other</td>\n",
    "    </tr>\n",
    "    <tr align=\"left\">\n",
    "        <td>\\__mul\\__(self, other)</td>\n",
    "        <td>self * other</td>\n",
    "    </tr>\n",
    "    <tr align=\"left\">\n",
    "        <td>\\__floordiv\\__(self, other)</td>\n",
    "        <td>self // other</td>\n",
    "    </tr>\n",
    "    <tr align=\"left\">\n",
    "        <td>\\__truediv\\__(self, other)</td>\n",
    "        <td>self / other</td>\n",
    "    </tr>\n",
    "    <tr align=\"left\">\n",
    "        <td>\\__mod\\__(self, other)</td>\n",
    "        <td>self % other</td>\n",
    "    </tr>\n",
    "    <tr align=\"left\">\n",
    "        <td>\\__pow\\__(self, other)</td>\n",
    "        <td>self *** other</td>\n",
    "    </tr>\n",
    "</table>"
   ]
  },
  {
   "cell_type": "markdown",
   "metadata": {},
   "source": [
    "その他の特殊メソッド\n",
    "<table align=\"left\" border=\"1px\" cellpadding=\"1px\">\n",
    "    <tr align=\"left\">\n",
    "        <th>メソッド</th>\n",
    "        <th>意味</th>\n",
    "    </tr>\n",
    "    <tr align=\"left\">\n",
    "        <td>\\__str\\__(self)</td>\n",
    "        <td>str(self)</td>\n",
    "    </tr>\n",
    "    <tr align=\"left\">\n",
    "        <td>\\__repr\\__(self)</td>\n",
    "        <td>repr(self)</td>\n",
    "    </tr>\n",
    "    <tr align=\"left\">\n",
    "        <td>\\__len\\__(self)</td>\n",
    "        <td>len(self)</td>\n",
    "    </tr>\n",
    "</table>"
   ]
  },
  {
   "cell_type": "markdown",
   "metadata": {},
   "source": [
    "その他、ここでは取り上げないが以下のキーワードについて理解しておくとよりいいかも。\n",
    "- ポリモフィズム\n",
    "- コンポジション\n",
    "- ダックタイピング\n",
    "- 名前付きタプル"
   ]
  }
 ],
 "metadata": {
  "kernelspec": {
   "display_name": "Python 2",
   "language": "python",
   "name": "python2"
  },
  "language_info": {
   "codemirror_mode": {
    "name": "ipython",
    "version": 2
   },
   "file_extension": ".py",
   "mimetype": "text/x-python",
   "name": "python",
   "nbconvert_exporter": "python",
   "pygments_lexer": "ipython2",
   "version": "2.7.14"
  }
 },
 "nbformat": 4,
 "nbformat_minor": 2
}

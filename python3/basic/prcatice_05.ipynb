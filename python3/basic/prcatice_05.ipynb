{
 "cells": [
  {
   "cell_type": "markdown",
   "metadata": {},
   "source": [
    "# パッケージ化\n",
    "\n",
    "これまではjupyter notebookを使い対話型インタープリンタでコードの断片を実行してきたがファイルの拡張子を見ると.ipynbとなっていることを確認できると思います。これはjupyter notebookで使用するファイル形式なのでパッケージ化には向きません。パッケージ化するにはスタンドアロンのプログラムとして.py形式のファイルで作成します。\n",
    "juptyer notebookでは「File->Download as->python」で.py形式でファイルを変換することができます。\n",
    "\n",
    "- モジュール<br>\n",
    "pythonコードをまとめたファイル。(sample.py)<br>\n",
    "\n",
    "- パッケージ<br>\n",
    "同じディレクトリに複数のモジュールを配置して階層構造に組織化したディレクトリ。<br>\n",
    "※pythonはディレクトリ内に\\__init\\__.py(中身は空でよい)が配置されている場合にパッケージとして扱う。"
   ]
  },
  {
   "cell_type": "markdown",
   "metadata": {},
   "source": [
    "## 1. import文\n",
    "\n",
    "他のモジュールのコードはimport文を使用して参照できるようになる。<br>\n",
    "importには以下のように２つのインポート方法があります。\n",
    "- import パッケージ名<br>\n",
    "パッケージに含まれる全てのモジュールをインポート\n",
    "- from パッケージ名 import モジュール<br>\n",
    "モジュールごとにインポートする\n"
   ]
  },
  {
   "cell_type": "code",
   "execution_count": 10,
   "metadata": {
    "collapsed": true
   },
   "outputs": [],
   "source": [
    "import random\n",
    "from random import choice"
   ]
  },
  {
   "cell_type": "code",
   "execution_count": 16,
   "metadata": {},
   "outputs": [
    {
     "name": "stdout",
     "output_type": "stream",
     "text": [
      "c\n",
      "e\n"
     ]
    }
   ],
   "source": [
    "array1 = ['a','b','c','d','e']\n",
    "print random.choice(array1)\n",
    "print choice(array1)"
   ]
  },
  {
   "cell_type": "markdown",
   "metadata": {},
   "source": [
    "importしたモジュールは以下のように別名をつけることができる。"
   ]
  },
  {
   "cell_type": "code",
   "execution_count": 1,
   "metadata": {
    "collapsed": true
   },
   "outputs": [],
   "source": [
    "import random as rn\n",
    "from random import choice as ch"
   ]
  },
  {
   "cell_type": "code",
   "execution_count": 3,
   "metadata": {},
   "outputs": [
    {
     "name": "stdout",
     "output_type": "stream",
     "text": [
      "g\n",
      "i\n"
     ]
    }
   ],
   "source": [
    "array2 = ['f','g','h','i','j']\n",
    "print rn.choice(array2)\n",
    "print ch(array2)"
   ]
  },
  {
   "cell_type": "markdown",
   "metadata": {},
   "source": [
    "以下のように別々に定義した名前を一度に使用する場合はエラーになる。"
   ]
  },
  {
   "cell_type": "raw",
   "metadata": {},
   "source": [
    "print rn.ch(array2)"
   ]
  },
  {
   "cell_type": "markdown",
   "metadata": {},
   "source": [
    "## 2. importのパス\n",
    "\n",
    "インポートファイルを検索する場所は標準のsysモジュールのpath変数に格納されているディレクトリ名やZIPアーカイブを探す。<br>\n",
    "注意点として、pathの検索結果で先頭のリストが空文字''である場合はカレントディレクトリという意味なので同名のモジュールがあった場合はカレントのpathを優先する。"
   ]
  },
  {
   "cell_type": "code",
   "execution_count": 6,
   "metadata": {
    "scrolled": true
   },
   "outputs": [
    {
     "data": {
      "text/plain": [
       "['',\n",
       " 'C:\\\\usr\\\\dev\\\\Anaconda2\\\\python27.zip',\n",
       " 'C:\\\\usr\\\\dev\\\\Anaconda2\\\\DLLs',\n",
       " 'C:\\\\usr\\\\dev\\\\Anaconda2\\\\lib',\n",
       " 'C:\\\\usr\\\\dev\\\\Anaconda2\\\\lib\\\\plat-win',\n",
       " 'C:\\\\usr\\\\dev\\\\Anaconda2\\\\lib\\\\lib-tk',\n",
       " 'C:\\\\usr\\\\dev\\\\Anaconda2',\n",
       " 'C:\\\\usr\\\\dev\\\\Anaconda2\\\\lib\\\\site-packages',\n",
       " 'C:\\\\usr\\\\dev\\\\Anaconda2\\\\lib\\\\site-packages\\\\Babel-2.5.0-py2.7.egg',\n",
       " 'C:\\\\usr\\\\dev\\\\Anaconda2\\\\lib\\\\site-packages\\\\win32',\n",
       " 'C:\\\\usr\\\\dev\\\\Anaconda2\\\\lib\\\\site-packages\\\\win32\\\\lib',\n",
       " 'C:\\\\usr\\\\dev\\\\Anaconda2\\\\lib\\\\site-packages\\\\Pythonwin',\n",
       " 'C:\\\\usr\\\\dev\\\\Anaconda2\\\\lib\\\\site-packages\\\\IPython\\\\extensions',\n",
       " 'C:\\\\Users\\\\M3197\\\\.ipython']"
      ]
     },
     "metadata": {},
     "output_type": "display_data"
    }
   ],
   "source": [
    "import sys\n",
    "display(sys.path)"
   ]
  }
 ],
 "metadata": {
  "kernelspec": {
   "display_name": "Python 2",
   "language": "python",
   "name": "python2"
  },
  "language_info": {
   "codemirror_mode": {
    "name": "ipython",
    "version": 2
   },
   "file_extension": ".py",
   "mimetype": "text/x-python",
   "name": "python",
   "nbconvert_exporter": "python",
   "pygments_lexer": "ipython2",
   "version": "2.7.14"
  }
 },
 "nbformat": 4,
 "nbformat_minor": 2
}
